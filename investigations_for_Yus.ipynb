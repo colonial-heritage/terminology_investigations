{
 "cells": [
  {
   "cell_type": "markdown",
   "id": "a4245ae2-4ea4-4828-9943-57604db04c9d",
   "metadata": {},
   "source": [
    "# Terms\n",
    "\n",
    " - sirih|sereh|pinang|penang\n",
    "\n",
    " - martaba+n|martava+n|tempayan|coengtong"
   ]
  },
  {
   "cell_type": "code",
   "execution_count": 1,
   "id": "7e78daea",
   "metadata": {},
   "outputs": [],
   "source": [
    "from tqdm import tqdm\n",
    "tqdm.pandas()\n",
    "\n",
    "import pandas as pd\n",
    "\n",
    "import os\n",
    "from glob import glob\n",
    "\n",
    "os.chdir(\"/home/valentin/Desktop/NMVW/NMVW-data-deliveries/v4\")\n",
    "\n",
    "def search(regex: str, df, case=False):\n",
    "    \"\"\"Search all the text columns of `df`, return rows with any matches.\"\"\"\n",
    "    textlikes = df.select_dtypes(include=[object, \"string\"])\n",
    "    return df[\n",
    "        textlikes.progress_apply(\n",
    "            lambda column: column.str.lower().str.contains(regex, regex=True, case=case, na=False)\n",
    "        ).any(axis=1)\n",
    "    ]"
   ]
  },
  {
   "cell_type": "code",
   "execution_count": 2,
   "id": "35d9eadd-fc3e-4da3-8561-409468fa8099",
   "metadata": {},
   "outputs": [
    {
     "name": "stderr",
     "output_type": "stream",
     "text": [
      " 11%|██▏                 | 6/54 [00:03<00:27,  1.75it/s]/tmp/ipykernel_3360/3437806983.py:7: DtypeWarning: Columns (16,17,18,19,20) have mixed types. Specify dtype option on import or set low_memory=False.\n",
      "  pd.read_csv(f) for f in tqdm(sorted(glob(\"./*/*_Objects*.csv\")))\n",
      " 13%|██▌                 | 7/54 [00:03<00:24,  1.88it/s]/tmp/ipykernel_3360/3437806983.py:7: DtypeWarning: Columns (7,12,16,17,18,19) have mixed types. Specify dtype option on import or set low_memory=False.\n",
      "  pd.read_csv(f) for f in tqdm(sorted(glob(\"./*/*_Objects*.csv\")))\n",
      " 15%|██▉                 | 8/54 [00:03<00:24,  1.89it/s]/tmp/ipykernel_3360/3437806983.py:7: DtypeWarning: Columns (16) have mixed types. Specify dtype option on import or set low_memory=False.\n",
      "  pd.read_csv(f) for f in tqdm(sorted(glob(\"./*/*_Objects*.csv\")))\n",
      " 19%|███▌               | 10/54 [00:05<00:23,  1.89it/s]/tmp/ipykernel_3360/3437806983.py:7: DtypeWarning: Columns (16) have mixed types. Specify dtype option on import or set low_memory=False.\n",
      "  pd.read_csv(f) for f in tqdm(sorted(glob(\"./*/*_Objects*.csv\")))\n",
      " 22%|████▏              | 12/54 [00:06<00:24,  1.73it/s]/tmp/ipykernel_3360/3437806983.py:7: DtypeWarning: Columns (16) have mixed types. Specify dtype option on import or set low_memory=False.\n",
      "  pd.read_csv(f) for f in tqdm(sorted(glob(\"./*/*_Objects*.csv\")))\n",
      " 26%|████▉              | 14/54 [00:07<00:25,  1.60it/s]/tmp/ipykernel_3360/3437806983.py:7: DtypeWarning: Columns (16) have mixed types. Specify dtype option on import or set low_memory=False.\n",
      "  pd.read_csv(f) for f in tqdm(sorted(glob(\"./*/*_Objects*.csv\")))\n",
      " 28%|█████▎             | 15/54 [00:08<00:23,  1.67it/s]/tmp/ipykernel_3360/3437806983.py:7: DtypeWarning: Columns (20) have mixed types. Specify dtype option on import or set low_memory=False.\n",
      "  pd.read_csv(f) for f in tqdm(sorted(glob(\"./*/*_Objects*.csv\")))\n",
      " 30%|█████▋             | 16/54 [00:08<00:21,  1.78it/s]/tmp/ipykernel_3360/3437806983.py:7: DtypeWarning: Columns (16) have mixed types. Specify dtype option on import or set low_memory=False.\n",
      "  pd.read_csv(f) for f in tqdm(sorted(glob(\"./*/*_Objects*.csv\")))\n",
      " 31%|█████▉             | 17/54 [00:09<00:18,  1.96it/s]/tmp/ipykernel_3360/3437806983.py:7: DtypeWarning: Columns (20) have mixed types. Specify dtype option on import or set low_memory=False.\n",
      "  pd.read_csv(f) for f in tqdm(sorted(glob(\"./*/*_Objects*.csv\")))\n",
      " 33%|██████▎            | 18/54 [00:09<00:18,  1.97it/s]/tmp/ipykernel_3360/3437806983.py:7: DtypeWarning: Columns (16) have mixed types. Specify dtype option on import or set low_memory=False.\n",
      "  pd.read_csv(f) for f in tqdm(sorted(glob(\"./*/*_Objects*.csv\")))\n",
      " 44%|████████▍          | 24/54 [00:12<00:14,  2.11it/s]/tmp/ipykernel_3360/3437806983.py:7: DtypeWarning: Columns (9,12,17) have mixed types. Specify dtype option on import or set low_memory=False.\n",
      "  pd.read_csv(f) for f in tqdm(sorted(glob(\"./*/*_Objects*.csv\")))\n",
      " 48%|█████████▏         | 26/54 [00:13<00:12,  2.16it/s]/tmp/ipykernel_3360/3437806983.py:7: DtypeWarning: Columns (16,18) have mixed types. Specify dtype option on import or set low_memory=False.\n",
      "  pd.read_csv(f) for f in tqdm(sorted(glob(\"./*/*_Objects*.csv\")))\n",
      " 50%|█████████▌         | 27/54 [00:14<00:14,  1.90it/s]/tmp/ipykernel_3360/3437806983.py:7: DtypeWarning: Columns (16,20) have mixed types. Specify dtype option on import or set low_memory=False.\n",
      "  pd.read_csv(f) for f in tqdm(sorted(glob(\"./*/*_Objects*.csv\")))\n",
      " 54%|██████████▏        | 29/54 [00:14<00:11,  2.16it/s]/tmp/ipykernel_3360/3437806983.py:7: DtypeWarning: Columns (16) have mixed types. Specify dtype option on import or set low_memory=False.\n",
      "  pd.read_csv(f) for f in tqdm(sorted(glob(\"./*/*_Objects*.csv\")))\n",
      " 57%|██████████▉        | 31/54 [00:15<00:11,  1.94it/s]/tmp/ipykernel_3360/3437806983.py:7: DtypeWarning: Columns (14) have mixed types. Specify dtype option on import or set low_memory=False.\n",
      "  pd.read_csv(f) for f in tqdm(sorted(glob(\"./*/*_Objects*.csv\")))\n",
      " 67%|████████████▋      | 36/54 [00:18<00:09,  1.94it/s]/tmp/ipykernel_3360/3437806983.py:7: DtypeWarning: Columns (9,12,16,18) have mixed types. Specify dtype option on import or set low_memory=False.\n",
      "  pd.read_csv(f) for f in tqdm(sorted(glob(\"./*/*_Objects*.csv\")))\n",
      " 78%|██████████████▊    | 42/54 [00:21<00:06,  1.98it/s]/tmp/ipykernel_3360/3437806983.py:7: DtypeWarning: Columns (16) have mixed types. Specify dtype option on import or set low_memory=False.\n",
      "  pd.read_csv(f) for f in tqdm(sorted(glob(\"./*/*_Objects*.csv\")))\n",
      " 80%|███████████████▏   | 43/54 [00:21<00:05,  2.14it/s]/tmp/ipykernel_3360/3437806983.py:7: DtypeWarning: Columns (20) have mixed types. Specify dtype option on import or set low_memory=False.\n",
      "  pd.read_csv(f) for f in tqdm(sorted(glob(\"./*/*_Objects*.csv\")))\n",
      " 81%|███████████████▍   | 44/54 [00:21<00:04,  2.14it/s]/tmp/ipykernel_3360/3437806983.py:7: DtypeWarning: Columns (20) have mixed types. Specify dtype option on import or set low_memory=False.\n",
      "  pd.read_csv(f) for f in tqdm(sorted(glob(\"./*/*_Objects*.csv\")))\n",
      " 85%|████████████████▏  | 46/54 [00:23<00:04,  1.69it/s]/tmp/ipykernel_3360/3437806983.py:7: DtypeWarning: Columns (16) have mixed types. Specify dtype option on import or set low_memory=False.\n",
      "  pd.read_csv(f) for f in tqdm(sorted(glob(\"./*/*_Objects*.csv\")))\n",
      "100%|███████████████████| 54/54 [00:27<00:00,  1.93it/s]\n"
     ]
    }
   ],
   "source": [
    "obj_cols = ['ObjectID', 'ObjectNumber', 'DateBegin', 'DateEnd', 'Dated',\n",
    "       'ObjectName', 'Title', 'Medium', 'Description', 'Provenance', 'Notes',\n",
    "       'CuratorialRemarks', 'RelatedWorks', 'Accountability',\n",
    "       'HistAttributions', 'Dimensions', 'DimensionRemarks', 'Signed',\n",
    "       'Inscribed', 'Markings', 'CatRais']\n",
    "objs = pd.concat([\n",
    "    pd.read_csv(f) for f in tqdm(sorted(glob(\"./*/*_Objects*.csv\")))\n",
    "])[obj_cols].drop_duplicates(subset=[\"ObjectNumber\", \"ObjectID\"]).set_index(\"ObjectNumber\")"
   ]
  },
  {
   "cell_type": "markdown",
   "id": "b88ef42e-32dc-4320-857d-308e78838177",
   "metadata": {},
   "source": [
    "---"
   ]
  },
  {
   "cell_type": "code",
   "execution_count": 8,
   "id": "6fc51eb9-a7cf-44a9-a3f3-5a7e13cb2bbc",
   "metadata": {},
   "outputs": [
    {
     "name": "stderr",
     "output_type": "stream",
     "text": [
      "100%|███████████████████| 18/18 [00:18<00:00,  1.04s/it]\n",
      "100%|███████████████████| 18/18 [00:15<00:00,  1.13it/s]\n",
      "100%|███████████████████| 18/18 [00:15<00:00,  1.16it/s]\n"
     ]
    }
   ],
   "source": [
    "sirih = search(\"sereh|sirih|sireh\", objs)\n",
    "pinang = search(\"pinang|penang\", objs)\n",
    "betel = search(\"betel\", objs)"
   ]
  },
  {
   "cell_type": "code",
   "execution_count": 50,
   "id": "d2076611-a0f7-4870-9222-e2889787ed7c",
   "metadata": {},
   "outputs": [],
   "source": [
    "os.chdir(\"/home/valentin/Desktop/NMVW/terminology_investigations/\")\n",
    "\n",
    "sirih[['Title', 'ObjectName', 'Description']].to_csv(\"./sirih/sirih.csv\")\n",
    "pinang[['Title', 'ObjectName', 'Description']].to_csv(\"./sirih/pinang.csv\")\n",
    "betel[['Title', 'ObjectName', 'Description']].to_csv(\"./sirih/betel.csv\")"
   ]
  },
  {
   "cell_type": "code",
   "execution_count": 59,
   "id": "f3cbb5ae-407e-4e3d-8c70-1cf03833bca6",
   "metadata": {},
   "outputs": [],
   "source": [
    "os.chdir(\"/home/valentin/Desktop/NMVW/terminology_investigations/\")\n",
    "\n",
    "sirih[['Title', 'ObjectName', 'Description']].sample(100).to_markdown(\"./sirih/sirih.md\")\n",
    "pinang[['Title', 'ObjectName', 'Description']].sample(100).to_markdown(\"./sirih/pinang.md\")\n",
    "betel[['Title', 'ObjectName', 'Description']].sample(100).to_markdown(\"./sirih/betel.md\")"
   ]
  },
  {
   "cell_type": "markdown",
   "id": "a1d2bba1-7e1e-4467-aab8-f11e610a1d13",
   "metadata": {},
   "source": [
    "---"
   ]
  },
  {
   "cell_type": "code",
   "execution_count": 51,
   "id": "aa985845-b36c-4711-981c-207ef35dfe6b",
   "metadata": {},
   "outputs": [
    {
     "name": "stderr",
     "output_type": "stream",
     "text": [
      "100%|███████████████████| 18/18 [00:10<00:00,  1.77it/s]\n",
      "100%|███████████████████| 18/18 [00:10<00:00,  1.76it/s]\n"
     ]
    }
   ],
   "source": [
    "martaban = search(\"martaban|martavan|martvaan\", objs)\n",
    "tempayan = search(\"tempayan|tempayaan\", objs)"
   ]
  },
  {
   "cell_type": "code",
   "execution_count": 63,
   "id": "d74f6e8e-4ec2-4fce-9864-17e8154b42af",
   "metadata": {},
   "outputs": [],
   "source": [
    "os.chdir(\"/home/valentin/Desktop/NMVW/terminology_investigations/\")\n",
    "\n",
    "martaban[['Title', 'ObjectName', 'Description']].to_csv(\"./martavan/martavan.csv\")\n",
    "tempayan[['Title', 'ObjectName', 'Description']].to_csv(\"./martavan/tempayan.csv\")\n",
    "\n",
    "martaban[['Title', 'ObjectName', 'Description']].to_markdown(\"./martavan/martavan.md\")\n",
    "tempayan[['Title', 'ObjectName', 'Description']].to_markdown(\"./martavan/tempayan.md\")"
   ]
  }
 ],
 "metadata": {
  "kernelspec": {
   "display_name": "Python 3 (ipykernel)",
   "language": "python",
   "name": "python3"
  },
  "language_info": {
   "codemirror_mode": {
    "name": "ipython",
    "version": 3
   },
   "file_extension": ".py",
   "mimetype": "text/x-python",
   "name": "python",
   "nbconvert_exporter": "python",
   "pygments_lexer": "ipython3",
   "version": "3.11.3"
  }
 },
 "nbformat": 4,
 "nbformat_minor": 5
}
